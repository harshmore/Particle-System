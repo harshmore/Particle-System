{
 "cells": [
  {
   "cell_type": "markdown",
   "id": "ddf09cc4",
   "metadata": {},
   "source": [
    "## Necessary Modules\n",
    "\n",
    "\n",
    "<p><b>OpenCv</b></p>\n",
    "<p><b>Numpy</b></p>\n",
    "<p><b>Mediapipe</b></p>\n",
    "\n",
    "<p>for opencv pip install opencv-python, this download numpy also.</p>\n",
    "<p>for mediapipe pip install mediapipe.</p>\n"
   ]
  },
  {
   "cell_type": "code",
   "execution_count": 1,
   "id": "0661daa6",
   "metadata": {},
   "outputs": [],
   "source": [
    "# importing Modules\n",
    "import cv2   \n",
    "import numpy as np\n",
    "\n",
    "\n",
    "class Particle():\n",
    "    def __init__(self):\n",
    "        self.particles = []   # List of particles\n",
    "        \n",
    "    def emit(self):\n",
    "        if self.particles:   \n",
    "            self.delete_particles()\n",
    "            for particle in self.particles:\n",
    "                particle[0][1] += particle[2][1]   # Move particles in Y direction\n",
    "                particle[0][0] += particle[2][0]   # Move paticles in X direction\n",
    "                particle[1] -= 0.2                 # Decreasing radius of particle\n",
    "                cv2.circle(img,tuple(particle[0]),int(particle[1]),(0,255,255))  # Draw the particle\n",
    "            \n",
    "    def add_particles(self,cx,cy):\n",
    "        pos_x = cx                   # X position\n",
    "        pos_y = cy                   # Y positon\n",
    "        radius = 10                  # Radius\n",
    "        direction_x = np.random.randint(-3,3)        \n",
    "        direction_y = np.random.randint(-3,3)        \n",
    "        particle_circle = [[pos_x,pos_y],radius,[direction_x,direction_y]]       \n",
    "        self.particles.append(particle_circle)\n",
    "    \n",
    "    def delete_particles(self):\n",
    "        particle_copy = [particle for particle in self.particles if particle[1]>0]  # Remove particles if radius is less than 0\n",
    "        self.particles = particle_copy\n",
    "        "
   ]
  },
  {
   "cell_type": "code",
   "execution_count": 2,
   "id": "be6111e4",
   "metadata": {
    "scrolled": true
   },
   "outputs": [],
   "source": [
    "# importing modules\n",
    "import cv2\n",
    "import mediapipe as mp\n",
    "import numpy as np\n",
    "\n",
    "class HandDetector():\n",
    "    \n",
    "    def __init__(self):\n",
    "        self.mpHands = mp.solutions.hands\n",
    "        self.hands = self.mpHands.Hands(max_num_hands=1)\n",
    "        self.mpDraw = mp.solutions.drawing_utils     # For Drawing in image\n",
    "        \n",
    "    def findHands(self,img,draw=True):\n",
    "        imgRGB = cv2.cvtColor(img,cv2.COLOR_BGR2RGB)    # Convert BGR to RGB\n",
    "        self.results = self.hands.process(imgRGB)      # Landmarks\n",
    "        \n",
    "        if self.results.multi_hand_landmarks:  \n",
    "            for handLms in self.results.multi_hand_landmarks:   \n",
    "                if draw:\n",
    "                    self.mpDraw.draw_landmarks(img,handLms,self.mpHands.HAND_CONNECTIONS) # To Draw all connections\n",
    "        return img\n",
    "    \n",
    "    def findPosition(self,img):\n",
    "        lmList = []\n",
    "        \n",
    "        if self.results.multi_hand_landmarks:\n",
    "            for handLms in self.results.multi_hand_landmarks:\n",
    "                for ids,lms in enumerate(handLms.landmark):\n",
    "                    h,w,c = img.shape                   # Dimension of image\n",
    "                    cx, cy = int(lms.x * w), int(lms.y * h)     # centre of each points\n",
    "                    lmList.append([ids, cx, cy])     # Landmarks\n",
    "        \n",
    "        return lmList\n",
    "         "
   ]
  },
  {
   "cell_type": "markdown",
   "id": "f9696a68",
   "metadata": {},
   "source": [
    "Start by running both upper sections. As they contains classes for below code.\n",
    "\n",
    "Below project triggers particle system on detection of tip of index finger and stops when index finger and thumb tips are pressed against each other.\n",
    "\n",
    "Press Q to exit."
   ]
  },
  {
   "cell_type": "code",
   "execution_count": 3,
   "id": "fe87192e",
   "metadata": {},
   "outputs": [],
   "source": [
    "# importing modules\n",
    "import cv2\n",
    "import numpy as np\n",
    "import mediapipe as mp\n",
    "\n",
    "cap = cv2.VideoCapture(0)   # Video feed\n",
    "detector = HandDetector()   # Hand detection\n",
    "\n",
    "particle1 = Particle()     # Particles \n",
    "while True:\n",
    "    ret,frame = cap.read()\n",
    "    img = detector.findHands(frame)\n",
    "    lmList = detector.findPosition(img)\n",
    "    \n",
    "    if len(lmList)!=0:\n",
    "        \n",
    "        if abs(lmList[4][1]-lmList[8][1])>10:    #stop particle system if index finger and thumb are pressed\n",
    "            for i in range(2):\n",
    "                particle1.add_particles(lmList[8][1],lmList[8][2])  # generate particle system if index finger is detected\n",
    "    particle1.emit()\n",
    "    cv2.imshow('Particle System',img)\n",
    "    if cv2.waitKey(2) == ord('q'):  # Press Q to exit\n",
    "        break\n",
    "cap.release()\n",
    "cv2.destroyAllWindows()"
   ]
  },
  {
   "cell_type": "code",
   "execution_count": null,
   "id": "57bb8397",
   "metadata": {},
   "outputs": [],
   "source": []
  }
 ],
 "metadata": {
  "kernelspec": {
   "display_name": "Python 3",
   "language": "python",
   "name": "python3"
  },
  "language_info": {
   "codemirror_mode": {
    "name": "ipython",
    "version": 3
   },
   "file_extension": ".py",
   "mimetype": "text/x-python",
   "name": "python",
   "nbconvert_exporter": "python",
   "pygments_lexer": "ipython3",
   "version": "3.8.10"
  }
 },
 "nbformat": 4,
 "nbformat_minor": 5
}
